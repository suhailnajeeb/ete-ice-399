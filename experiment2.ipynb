{
  "nbformat": 4,
  "nbformat_minor": 0,
  "metadata": {
    "colab": {
      "name": "experiment2.ipynb",
      "provenance": [],
      "include_colab_link": true
    },
    "kernelspec": {
      "name": "python3",
      "display_name": "Python 3"
    }
  },
  "cells": [
    {
      "cell_type": "markdown",
      "metadata": {
        "id": "view-in-github",
        "colab_type": "text"
      },
      "source": [
        "<a href=\"https://colab.research.google.com/github/suhailnajeeb/ete-ice-399/blob/master/experiment2.ipynb\" target=\"_parent\"><img src=\"https://colab.research.google.com/assets/colab-badge.svg\" alt=\"Open In Colab\"/></a>"
      ]
    },
    {
      "cell_type": "markdown",
      "metadata": {
        "id": "wzWzy0A3rYiH",
        "colab_type": "text"
      },
      "source": [
        "# ETE/ICE 399: Design and Simulation: Spring 2020"
      ]
    },
    {
      "cell_type": "markdown",
      "metadata": {
        "id": "59qFOe6MEKMm",
        "colab_type": "text"
      },
      "source": [
        "## Experiment - 2: Generation of elementary signals using Python"
      ]
    },
    {
      "cell_type": "markdown",
      "metadata": {
        "id": "9id2dY5MoLsh",
        "colab_type": "text"
      },
      "source": [
        "## Objective:\n",
        "To understand the generation of elementary signals using Python code. "
      ]
    },
    {
      "cell_type": "markdown",
      "metadata": {
        "id": "81WLrKm4oT1p",
        "colab_type": "text"
      },
      "source": [
        "## Library Imports:"
      ]
    },
    {
      "cell_type": "code",
      "metadata": {
        "id": "Zo-oIJP8FOPf",
        "colab_type": "code",
        "colab": {}
      },
      "source": [
        "import matplotlib.pyplot as plt\n",
        "from math import pi\n",
        "import numpy as np\n",
        "from numpy import sin,exp"
      ],
      "execution_count": 0,
      "outputs": []
    },
    {
      "cell_type": "markdown",
      "metadata": {
        "id": "GMYsCEOKFV_g",
        "colab_type": "text"
      },
      "source": [
        "## Sinusoidal Wave"
      ]
    },
    {
      "cell_type": "markdown",
      "metadata": {
        "id": "jd5yxPSanTvh",
        "colab_type": "text"
      },
      "source": [
        "$t = [-\\pi, 2\\pi],  (\\Delta: 0.01) $\n",
        "\n",
        "$y = sin(\\omega t)$, \n",
        "\n",
        "$\\omega = 2 \\pi f$"
      ]
    },
    {
      "cell_type": "code",
      "metadata": {
        "id": "kDP_cB5-Fb3Z",
        "colab_type": "code",
        "colab": {}
      },
      "source": [
        "t = np.arange(-pi, 2*pi, 0.01)\n",
        "f = 1\n",
        "w = 2*pi*f\n",
        "y = sin(w*t)"
      ],
      "execution_count": 0,
      "outputs": []
    },
    {
      "cell_type": "markdown",
      "metadata": {
        "id": "hZyKKjUiYIeG",
        "colab_type": "text"
      },
      "source": [
        "### Plotting the sin wave"
      ]
    },
    {
      "cell_type": "code",
      "metadata": {
        "id": "Oz_m-JTDGpVq",
        "colab_type": "code",
        "colab": {}
      },
      "source": [
        "plt.plot(t,y)\n",
        "plt.xlabel('time')\n",
        "plt.ylabel('amplitude')\n",
        "plt.title('sinusoidal wave')\n",
        "plt.grid(True)\n",
        "plt.show()"
      ],
      "execution_count": 0,
      "outputs": []
    },
    {
      "cell_type": "markdown",
      "metadata": {
        "id": "gR9OyfzUYhyO",
        "colab_type": "text"
      },
      "source": [
        "## Exponential/damped wave"
      ]
    },
    {
      "cell_type": "markdown",
      "metadata": {
        "id": "yTHM1F2fopbB",
        "colab_type": "text"
      },
      "source": [
        "$y = e^{-0.9t} sin(\\omega t + 3) $"
      ]
    },
    {
      "cell_type": "code",
      "metadata": {
        "id": "2PwwOXZGWfkY",
        "colab_type": "code",
        "colab": {}
      },
      "source": [
        "t = np.arange(-pi, 2*pi, 0.01)\n",
        "f = 1\n",
        "w = 2*pi*f\n",
        "y = exp(-0.09*t)*sin(w*t+3)"
      ],
      "execution_count": 0,
      "outputs": []
    },
    {
      "cell_type": "code",
      "metadata": {
        "id": "5UAqG0XrQ24T",
        "colab_type": "code",
        "colab": {}
      },
      "source": [
        "plt.plot(t,y)\n",
        "plt.xlabel('time')\n",
        "plt.ylabel('amplitude')\n",
        "plt.title('exponential/damped wave')\n",
        "plt.grid(True)\n",
        "plt.show()"
      ],
      "execution_count": 0,
      "outputs": []
    },
    {
      "cell_type": "markdown",
      "metadata": {
        "id": "8hxOU4grR6rL",
        "colab_type": "text"
      },
      "source": [
        "## Discrete exponential sample wave"
      ]
    },
    {
      "cell_type": "markdown",
      "metadata": {
        "id": "5x_dILd6qMGo",
        "colab_type": "text"
      },
      "source": [
        "$y = f [t] = exp (-0.4t)$ "
      ]
    },
    {
      "cell_type": "code",
      "metadata": {
        "id": "NL1U3vRRSBoK",
        "colab_type": "code",
        "colab": {}
      },
      "source": [
        "t = np.arange(0, 2*pi, 0.2)\n",
        "f = 1\n",
        "w = 2*pi*f\n",
        "y = exp(-0.4*t)"
      ],
      "execution_count": 0,
      "outputs": []
    },
    {
      "cell_type": "code",
      "metadata": {
        "id": "pWdZ2Y18ScM0",
        "colab_type": "code",
        "colab": {}
      },
      "source": [
        "plt.stem(t,y)\n",
        "plt.xlabel('time')\n",
        "plt.ylabel('amplitude')\n",
        "plt.title('exponential sample wave')\n",
        "plt.grid(True)\n",
        "plt.show()"
      ],
      "execution_count": 0,
      "outputs": []
    },
    {
      "cell_type": "markdown",
      "metadata": {
        "id": "XkLTCBYsS7db",
        "colab_type": "text"
      },
      "source": [
        "## Two Exponential Curves"
      ]
    },
    {
      "cell_type": "markdown",
      "metadata": {
        "id": "KY8f7q-vpEJp",
        "colab_type": "text"
      },
      "source": [
        "$y_1 = e ^ {-0.4t}$\n",
        "\n",
        "$y_2 = e ^ {0.4t}$"
      ]
    },
    {
      "cell_type": "code",
      "metadata": {
        "id": "ZXzi6utES6oM",
        "colab_type": "code",
        "colab": {}
      },
      "source": [
        "t = np.arange(0,3,0.1)\n",
        "f = 100\n",
        "w = 2*pi*f\n",
        "y1 = exp(-0.4*t)\n",
        "y2 = exp(0.4*t)"
      ],
      "execution_count": 0,
      "outputs": []
    },
    {
      "cell_type": "code",
      "metadata": {
        "id": "0TMbF4vPTe0r",
        "colab_type": "code",
        "colab": {}
      },
      "source": [
        "plt.plot(t,y1,'r',t,y2,'g')\n",
        "plt.xlabel('time')\n",
        "plt.ylabel('amplitude')\n",
        "plt.title('exponential curves')\n",
        "plt.grid(True)\n",
        "plt.show()"
      ],
      "execution_count": 0,
      "outputs": []
    },
    {
      "cell_type": "markdown",
      "metadata": {
        "id": "fivTzz0jTymU",
        "colab_type": "text"
      },
      "source": [
        "##Two Exponential Curves including different symbols"
      ]
    },
    {
      "cell_type": "markdown",
      "metadata": {
        "id": "YzRjCvgGpU2g",
        "colab_type": "text"
      },
      "source": [
        "$y_1 = e ^ {-0.9t} (red)$\n",
        "\n",
        "$y_2 = e ^ {0.9t} (green)$"
      ]
    },
    {
      "cell_type": "code",
      "metadata": {
        "id": "HxKwyCq3T3Ke",
        "colab_type": "code",
        "colab": {}
      },
      "source": [
        "t = np.arange(0,1,0.1)\n",
        "f = 10\n",
        "w = 2*pi*f\n",
        "y1 = exp(-0.9*t)\n",
        "y2 = exp(0.9*t)"
      ],
      "execution_count": 0,
      "outputs": []
    },
    {
      "cell_type": "code",
      "metadata": {
        "id": "z5KCwDK9UFer",
        "colab_type": "code",
        "colab": {}
      },
      "source": [
        "plt.plot(t,y1,'rd',t,y2,'g>')\n",
        "plt.xlabel('time')\n",
        "plt.ylabel('amplitude')\n",
        "plt.title('exponential curves')\n",
        "plt.grid(True)\n",
        "plt.show()"
      ],
      "execution_count": 0,
      "outputs": []
    },
    {
      "cell_type": "markdown",
      "metadata": {
        "id": "V5E9P4dDUhO7",
        "colab_type": "text"
      },
      "source": [
        "## 'Negative Exp' and 'Positive Exp' with legends"
      ]
    },
    {
      "cell_type": "code",
      "metadata": {
        "id": "CNsS6B97UlJ2",
        "colab_type": "code",
        "colab": {}
      },
      "source": [
        "t = np.arange(0,1,0.1)\n",
        "f = 10\n",
        "w = 2*pi*f\n",
        "y1 = exp(-0.9*t)\n",
        "y2 = exp(0.9*t)"
      ],
      "execution_count": 0,
      "outputs": []
    },
    {
      "cell_type": "code",
      "metadata": {
        "id": "LEztNvvGU3pj",
        "colab_type": "code",
        "colab": {}
      },
      "source": [
        "plt.plot(t,y1,'rd', label = 'Negative Exp')\n",
        "plt.plot(t,y2,'g>', label = 'Positive Exp')\n",
        "plt.xlabel('time')\n",
        "plt.ylabel('amplitude')\n",
        "plt.title('exponential curves')\n",
        "plt.grid(True)\n",
        "plt.legend()\n",
        "plt.show()"
      ],
      "execution_count": 0,
      "outputs": []
    },
    {
      "cell_type": "markdown",
      "metadata": {
        "id": "0FhfbqRppltg",
        "colab_type": "text"
      },
      "source": [
        "## Report:\n",
        "\n",
        "1. Generate the functions:\n",
        "\n",
        "  (a) $f(x) = sinc(x)$\n",
        "\n",
        "  (b) $f[n] = \\frac {1} {1=0.5^{n}} $\n",
        "\n",
        "      *Set axis labels, legend, plot title, and plot color. also show grid* "
      ]
    }
  ]
}